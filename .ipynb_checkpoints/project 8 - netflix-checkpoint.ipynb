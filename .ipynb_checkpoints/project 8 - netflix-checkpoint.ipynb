{
 "cells": [
  {
   "cell_type": "code",
   "execution_count": null,
   "id": "dd910c84",
   "metadata": {},
   "outputs": [],
   "source": [
    "\n",
    "import seaborn as sns"
   ]
  },
  {
   "cell_type": "code",
   "execution_count": null,
   "id": "2a71cec8",
   "metadata": {},
   "outputs": [],
   "source": [
    "import pandas as pd"
   ]
  },
  {
   "cell_type": "code",
   "execution_count": null,
   "id": "85643bfd",
   "metadata": {},
   "outputs": [],
   "source": [
    "df = pd.read_csv('netflix.csv')"
   ]
  },
  {
   "cell_type": "code",
   "execution_count": null,
   "id": "8bf41828",
   "metadata": {},
   "outputs": [],
   "source": [
    "df.columns"
   ]
  },
  {
   "cell_type": "code",
   "execution_count": null,
   "id": "3b6cd97a",
   "metadata": {},
   "outputs": [],
   "source": [
    "df"
   ]
  },
  {
   "cell_type": "markdown",
   "id": "f69f5697",
   "metadata": {},
   "source": [
    "Q. 1) For 'House of Cards', what is the Show Id and Who is the Director of this show ?"
   ]
  },
  {
   "cell_type": "code",
   "execution_count": null,
   "id": "23882a27",
   "metadata": {},
   "outputs": [],
   "source": [
    "df[df['Title'].isin(['House of Cards'])]"
   ]
  },
  {
   "cell_type": "code",
   "execution_count": null,
   "id": "cdcadc20",
   "metadata": {},
   "outputs": [],
   "source": [
    "df[df['Title'].str.contains('House of Cards')]"
   ]
  },
  {
   "cell_type": "markdown",
   "id": "2d13ae08",
   "metadata": {},
   "source": [
    "Q. 2) In which year the highest number of the TV Shows & Movies were released ? Show with Bar Graph."
   ]
  },
  {
   "cell_type": "code",
   "execution_count": null,
   "id": "a9dd9917",
   "metadata": {},
   "outputs": [],
   "source": [
    "df.dtypes"
   ]
  },
  {
   "cell_type": "code",
   "execution_count": null,
   "id": "9468a50e",
   "metadata": {},
   "outputs": [],
   "source": [
    "df['Release_Date']"
   ]
  },
  {
   "cell_type": "code",
   "execution_count": null,
   "id": "767a4f03",
   "metadata": {},
   "outputs": [],
   "source": [
    "df['Release_Date'] = pd.to_datetime(df.Release_Date)"
   ]
  },
  {
   "cell_type": "code",
   "execution_count": null,
   "id": "be6eea6b",
   "metadata": {},
   "outputs": [],
   "source": []
  },
  {
   "cell_type": "code",
   "execution_count": null,
   "id": "075323f9",
   "metadata": {},
   "outputs": [],
   "source": [
    "sns.countplot(df['Release_Date'])"
   ]
  },
  {
   "cell_type": "code",
   "execution_count": null,
   "id": "18c64cba",
   "metadata": {},
   "outputs": [],
   "source": []
  },
  {
   "cell_type": "markdown",
   "id": "fdda06f0",
   "metadata": {},
   "source": [
    "Q. 3) How many Movies & TV Shows are in the dataset ? Show with Bar Graph."
   ]
  },
  {
   "cell_type": "code",
   "execution_count": null,
   "id": "201670f9",
   "metadata": {},
   "outputs": [],
   "source": []
  },
  {
   "cell_type": "markdown",
   "id": "b7fa7d54",
   "metadata": {},
   "source": [
    "Q. 4) Show all the Movies that were released in year 2000."
   ]
  },
  {
   "cell_type": "code",
   "execution_count": null,
   "id": "c42db984",
   "metadata": {},
   "outputs": [],
   "source": []
  },
  {
   "cell_type": "markdown",
   "id": "d068c165",
   "metadata": {},
   "source": [
    "Q. 5) Show only the Titles of all TV Shows that were released in India only."
   ]
  },
  {
   "cell_type": "markdown",
   "id": "cab00f7b",
   "metadata": {},
   "source": [
    "Q. 6) Show Top 10 Directors, who gave the highest number of TV Shows & Movies to Netflix ?"
   ]
  },
  {
   "cell_type": "markdown",
   "id": "ab3b4f60",
   "metadata": {},
   "source": [
    "Q. 7) Show all the Records, where \"Category is Movie and Type is Comedies\" or \"Country is United Kingdom\"."
   ]
  },
  {
   "cell_type": "markdown",
   "id": "f5e6d2c9",
   "metadata": {},
   "source": [
    "Q. 8) In how many movies/shows, Tom Cruise was cast ?"
   ]
  },
  {
   "cell_type": "markdown",
   "id": "dccb8be9",
   "metadata": {},
   "source": [
    "Q. 9) What are the different Ratings defined by Netflix ?"
   ]
  },
  {
   "cell_type": "markdown",
   "id": "4d8e0907",
   "metadata": {},
   "source": [
    "Q. 9.1) How many Movies got the 'TV-14' rating, in Canada ?"
   ]
  },
  {
   "cell_type": "markdown",
   "id": "1fc0b519",
   "metadata": {},
   "source": [
    "Q. 9.2) How many TV Shows got the 'R' rating, after year 2018 ?"
   ]
  },
  {
   "cell_type": "markdown",
   "id": "9a737891",
   "metadata": {},
   "source": [
    "Q. 10) What is the maximum duration of a Movie/Show on Netflix ?"
   ]
  },
  {
   "cell_type": "markdown",
   "id": "d90dc187",
   "metadata": {},
   "source": [
    "Q. 11) Which individual country has the Highest No. of TV Shows ?"
   ]
  },
  {
   "cell_type": "markdown",
   "id": "a5368d50",
   "metadata": {},
   "source": [
    "Q. 12) How can we sort the dataset by Year ?"
   ]
  },
  {
   "cell_type": "markdown",
   "id": "46b9ad17",
   "metadata": {},
   "source": [
    "Q. 13) Find all the instances where: Category is 'Movie' and Type is 'Dramas' or Category is 'TV Show' & Type is 'Kids' TV'."
   ]
  }
 ],
 "metadata": {
  "kernelspec": {
   "display_name": "Python 3 (ipykernel)",
   "language": "python",
   "name": "python3"
  },
  "language_info": {
   "codemirror_mode": {
    "name": "ipython",
    "version": 3
   },
   "file_extension": ".py",
   "mimetype": "text/x-python",
   "name": "python",
   "nbconvert_exporter": "python",
   "pygments_lexer": "ipython3",
   "version": "3.11.5"
  }
 },
 "nbformat": 4,
 "nbformat_minor": 5
}
